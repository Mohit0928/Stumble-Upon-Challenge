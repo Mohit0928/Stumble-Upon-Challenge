{
 "cells": [
  {
   "cell_type": "code",
   "execution_count": 1,
   "metadata": {},
   "outputs": [],
   "source": [
    "import pandas as pd\n",
    "import numpy as np\n",
    "from sklearn.feature_extraction.text import TfidfVectorizer \n",
    "from nltk import word_tokenize\n",
    "from sklearn.svm import SVC\n",
    "from sklearn.model_selection import StratifiedKFold\n",
    "from sklearn.metrics import average_precision_score\n",
    "from sklearn.model_selection import cross_val_score\n",
    "from sklearn.decomposition import TruncatedSVD\n",
    "import sklearn.linear_model as lin_mod\n"
   ]
  },
  {
   "cell_type": "code",
   "execution_count": 2,
   "metadata": {},
   "outputs": [],
   "source": [
    "def tfid(data):  \n",
    "    f = TfidfVectorizer(min_df=2, max_features=None, strip_accents='unicode',  analyzer='word',token_pattern=r'\\w{1,}',ngram_range=(1, 2), use_idf=1,smooth_idf=1,sublinear_tf=1)\n",
    "    f.fit(data)\n",
    "    data_trans = f.transform(data)\n",
    "    return data_trans"
   ]
  },
  {
   "cell_type": "code",
   "execution_count": 3,
   "metadata": {},
   "outputs": [],
   "source": [
    "def log_reg(X,y,X_test):        \n",
    "\n",
    "    \n",
    "    rd = lin_mod.LogisticRegression(C=1, tol=0.0001,penalty='l2',dual=True, fit_intercept=True, intercept_scaling=1.0, class_weight=None, random_state=None)\n",
    "\n",
    "    c = cross_val_score(rd, X, y, cv=5, scoring='roc_auc')\n",
    "    print(\"5 Fold CV Score: for Logistic \", np.mean(c) , \"+/-\" , np.std(c)*2)\n",
    "    print(c)\n",
    "    rd.fit(X,y)\n",
    "    out = rd.predict_proba(X_test)[:,1]\n",
    "    return np.array(out)"
   ]
  },
  {
   "cell_type": "code",
   "execution_count": null,
   "metadata": {},
   "outputs": [],
   "source": [
    "\n",
    "train=pd.read_csv('train.tsv', sep=\"\\t\")\n",
    "train=pd.DataFrame(train)\n",
    "train=list(train.iloc[:,2])\n",
    "\n",
    "test = pd.read_csv('test.tsv', sep=\"\\t\")\n",
    "test=pd.DataFrame(test)\n",
    "test=list(test.iloc[:,2])\n",
    "\n",
    "\n",
    "y_train=pd.read_csv('train.tsv', sep=\"\\t\")\n",
    "y_train=pd.DataFrame(y_train)\n",
    "y_train=np.array(y_train.iloc[:,-1])\n",
    "y_train= y_train.astype(int)\n",
    "\n",
    "data = train + test \n",
    "data = tfid(data)\n",
    "strat_data= StratifiedKFold(n_splits=5)\n",
    "kf=strat_data.get_n_splits(y_train)\n",
    "svd = TruncatedSVD(n_components=250)\n",
    "svd.fit(data)\n",
    "data_svd = svd.transform(data)\n",
    "X_test = data_svd[len(train):]\n",
    "X_train = data_svd[:len(train)]\n",
    "\n",
    "\n",
    "pred = list(log_reg(X_train,y_train,X_test))  \n",
    "testfile= pd.read_csv('test.tsv', sep=\"\\t\", na_values=['?'], index_col=1)\n",
    "pred_df = pd.DataFrame(pred, index=testfile.index, columns=['label'])\n",
    "pred_df.to_csv('stumble.csv')\n"
   ]
  }
 ],
 "metadata": {
  "kernelspec": {
   "display_name": "Python 3",
   "language": "python",
   "name": "python3"
  },
  "language_info": {
   "codemirror_mode": {
    "name": "ipython",
    "version": 3
   },
   "file_extension": ".py",
   "mimetype": "text/x-python",
   "name": "python",
   "nbconvert_exporter": "python",
   "pygments_lexer": "ipython3",
   "version": "3.7.3"
  }
 },
 "nbformat": 4,
 "nbformat_minor": 2
}
